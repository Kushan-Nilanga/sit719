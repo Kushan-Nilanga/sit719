{
 "cells": [
  {
   "attachments": {},
   "cell_type": "markdown",
   "metadata": {},
   "source": [
    "# Test KDD Dataset"
   ]
  },
  {
   "cell_type": "code",
   "execution_count": 1,
   "metadata": {},
   "outputs": [],
   "source": [
    "import joblib\n",
    "\n",
    "# Load the model from the file\n",
    "model_kdd_ada_boost = joblib.load('../artefacts/6/models_kdd_ada_boost.joblib')\n",
    "model_kdd_decision_tree = joblib.load('../artefacts/6/models_kdd_decision_tree.joblib')\n",
    "model_kdd_knn = joblib.load('../artefacts/6/models_kdd_knn.joblib')\n",
    "model_kdd_logistic_regression = joblib.load('../artefacts/6/models_kdd_logistic_regression.joblib')\n",
    "model_kdd_mlp = joblib.load('../artefacts/6/models_kdd_mlp.joblib')\n",
    "model_kdd_random_forest = joblib.load('../artefacts/6/models_kdd_random_forest.joblib')\n",
    "model_kdd_svm = joblib.load('../artefacts/6/models_kdd_svm.joblib')"
   ]
  },
  {
   "cell_type": "code",
   "execution_count": 8,
   "metadata": {},
   "outputs": [
    {
     "data": {
      "text/plain": [
       "array([[9458,   67,  186],\n",
       "       [1423, 6202,   11],\n",
       "       [ 825,  156, 1442]])"
      ]
     },
     "execution_count": 8,
     "metadata": {},
     "output_type": "execute_result"
    }
   ],
   "source": [
    "from sklearn.metrics import confusion_matrix\n",
    "import pandas as pd\n",
    "\n",
    "# Load the test data\n",
    "kdd_test = pd.read_csv('../artefacts/5/kdd_test.csv', index_col=0)\n",
    "\n",
    "# Separate the features and the target\n",
    "kdd_x = kdd_test.iloc[:, :-3]\n",
    "kdd_y = kdd_test.iloc[:, -3:]\n",
    "\n",
    "kdd_y_pred = model_kdd_ada_boost.predict(kdd_x)\n",
    "\n",
    "# build confusion matrix\n",
    "con_mat = confusion_matrix(kdd_y.values.argmax(axis=1), kdd_y_pred.argmax(axis=1))\n",
    "\n",
    "con_mat\n"
   ]
  }
 ],
 "metadata": {
  "kernelspec": {
   "display_name": "env",
   "language": "python",
   "name": "python3"
  },
  "language_info": {
   "codemirror_mode": {
    "name": "ipython",
    "version": 3
   },
   "file_extension": ".py",
   "mimetype": "text/x-python",
   "name": "python",
   "nbconvert_exporter": "python",
   "pygments_lexer": "ipython3",
   "version": "3.10.8"
  },
  "orig_nbformat": 4,
  "vscode": {
   "interpreter": {
    "hash": "1c4ca806edb215e68744eb731c739c4121ba4017c72f37ff523d6d3cfcbd411d"
   }
  }
 },
 "nbformat": 4,
 "nbformat_minor": 2
}
