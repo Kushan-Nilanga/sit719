{
 "cells": [
  {
   "cell_type": "code",
   "execution_count": 1,
   "metadata": {},
   "outputs": [],
   "source": [
    "# KDD\n",
    "\n",
    "# import\n",
    "import pandas as pd\n",
    "\n",
    "\n",
    "def preprocess_kdd(kdd: pd.DataFrame):\n",
    "\n",
    "    # remove rows whose column Class_r2l is 1\n",
    "    kdd = kdd[kdd['Class_r2l'] != 1]\n",
    "\n",
    "    # remove rows whose column Class_u2r is 1\n",
    "    kdd = kdd[kdd['Class_u2r'] != 1]\n",
    "\n",
    "    # remove columns Class_r2l and Class_u2r\n",
    "    kdd = kdd.drop(['Class_r2l', 'Class_u2r'], axis=1)\n",
    "\n",
    "    return kdd\n",
    "\n",
    "\n",
    "kdd_train = pd.read_csv('../artefacts/3/kdd_train.csv')\n",
    "kdd_train = preprocess_kdd(kdd_train)\n",
    "kdd_train.to_csv('../artefacts/5/kdd_train.csv', index=False)\n",
    "\n",
    "kdd_test = pd.read_csv('../artefacts/3/kdd_test.csv')\n",
    "kdd_test = preprocess_kdd(kdd_test)\n",
    "kdd_test.to_csv('../artefacts/5/kdd_test.csv', index=False)\n"
   ]
  },
  {
   "cell_type": "code",
   "execution_count": 2,
   "metadata": {},
   "outputs": [],
   "source": [
    "def preprocess_iot(iot: pd.DataFrame):\n",
    "    return iot\n",
    "\n",
    "\n",
    "iot_train = pd.read_csv('../artefacts/3/iot_train.csv')\n",
    "iot_train = preprocess_iot(iot_train)\n",
    "iot_train.to_csv('../artefacts/5/iot_train.csv', index=False)\n",
    "\n",
    "iot_test = pd.read_csv('../artefacts/3/iot_test.csv')\n",
    "iot_test = preprocess_iot(iot_test)\n",
    "iot_test.to_csv('../artefacts/5/iot_test.csv', index=False)\n"
   ]
  }
 ],
 "metadata": {
  "kernelspec": {
   "display_name": "env",
   "language": "python",
   "name": "python3"
  },
  "language_info": {
   "codemirror_mode": {
    "name": "ipython",
    "version": 3
   },
   "file_extension": ".py",
   "mimetype": "text/x-python",
   "name": "python",
   "nbconvert_exporter": "python",
   "pygments_lexer": "ipython3",
   "version": "3.10.8 (main, Oct 21 2022, 22:22:30) [Clang 14.0.0 (clang-1400.0.29.202)]"
  },
  "orig_nbformat": 4,
  "vscode": {
   "interpreter": {
    "hash": "1c4ca806edb215e68744eb731c739c4121ba4017c72f37ff523d6d3cfcbd411d"
   }
  }
 },
 "nbformat": 4,
 "nbformat_minor": 2
}
