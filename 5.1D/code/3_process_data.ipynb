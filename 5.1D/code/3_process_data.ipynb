{
 "cells": [
  {
   "cell_type": "code",
   "execution_count": 1,
   "metadata": {},
   "outputs": [],
   "source": [
    "import numpy as np\n",
    "from scipy.io import arff\n",
    "import pandas as pd\n",
    "from sklearn.model_selection import train_test_split\n",
    "\n",
    "\n",
    "def read_arff(filename):\n",
    "    # read arff data files\n",
    "    data, meta = arff.loadarff(filename)\n",
    "\n",
    "    # convert numpy array of array on ndarray\n",
    "    data = np.array([list(x) for x in data])\n",
    "\n",
    "    # decode bytes to string\n",
    "    data = np.char.decode(data)\n",
    "\n",
    "    # convert numpy to dataframe\n",
    "    data = pd.DataFrame(data, columns=meta.names(), index=None)\n",
    "\n",
    "    # drop na\n",
    "    data = data.dropna()\n",
    "\n",
    "    return {'data': data, 'meta': meta}\n"
   ]
  },
  {
   "cell_type": "code",
   "execution_count": 2,
   "metadata": {},
   "outputs": [],
   "source": [
    "# dataset = {\n",
    "#     'test': {\n",
    "#        'data': numpy.ndarray\n",
    "#        'meta': scipy.io.arff._arffread.MetaData\n",
    "#     },\n",
    "#     'train': {\n",
    "#        'data': numpy.ndarray\n",
    "#        'meta': scipy.io.arff._arffread.MetaData\n",
    "#     }\n",
    "# }\n",
    "\n",
    "kdd_dataset = {\n",
    "    'test': read_arff('../data/kdd/test_dataset_with_label.csv.arff'),\n",
    "    'train': read_arff('../data/kdd/train_dataset_with_label.csv.arff'),\n",
    "}\n",
    "\n",
    "iot = pd.read_csv('../raw/Processed_Combined_IoT_dataset.csv')\n",
    "iot_train, iot_test = train_test_split(iot, test_size=0.2, random_state=42)\n",
    "\n",
    "iot_dataset = {\n",
    "    'test': iot_test,\n",
    "    'train': iot_train\n",
    "}\n"
   ]
  },
  {
   "cell_type": "code",
   "execution_count": 3,
   "metadata": {},
   "outputs": [],
   "source": [
    "# dummy encoding and save to csv\n",
    "import matplotlib.pyplot as plt\n",
    "import pandas as pd\n",
    "\n",
    "# KDD dataset\n",
    "kdd_dataset['train']['data'] = pd.get_dummies(\n",
    "    kdd_dataset['train']['data'], columns=['Class'], prefix='Class')\n",
    "kdd_dataset['train']['data'].to_csv(\n",
    "    '../artefacts/3/kdd_train.csv', index=False)\n",
    "\n",
    "kdd_dataset['test']['data'] = pd.get_dummies(\n",
    "    kdd_dataset['test']['data'], columns=['Class'], prefix='Class')\n",
    "kdd_dataset['test']['data'].to_csv(\n",
    "    '../artefacts/3/kdd_test.csv', index=False)\n"
   ]
  },
  {
   "cell_type": "code",
   "execution_count": 4,
   "metadata": {},
   "outputs": [],
   "source": [
    "# UNSW Dataset\n",
    "iot_dataset['train'] = pd.get_dummies(\n",
    "    iot_dataset['train'], columns=['label'], prefix='label')\n",
    "iot_dataset['train'].to_csv(\n",
    "    '../artefacts/3/iot_train.csv', index=False)\n",
    "\n",
    "iot_dataset['test'] = pd.get_dummies(\n",
    "    iot_dataset['test'], columns=['label'], prefix='label')\n",
    "iot_dataset['test'].to_csv(\n",
    "    '../artefacts/3/iot_test.csv', index=False)\n"
   ]
  }
 ],
 "metadata": {
  "kernelspec": {
   "display_name": "env",
   "language": "python",
   "name": "python3"
  },
  "language_info": {
   "codemirror_mode": {
    "name": "ipython",
    "version": 3
   },
   "file_extension": ".py",
   "mimetype": "text/x-python",
   "name": "python",
   "nbconvert_exporter": "python",
   "pygments_lexer": "ipython3",
   "version": "3.10.8"
  },
  "orig_nbformat": 4,
  "vscode": {
   "interpreter": {
    "hash": "1c4ca806edb215e68744eb731c739c4121ba4017c72f37ff523d6d3cfcbd411d"
   }
  }
 },
 "nbformat": 4,
 "nbformat_minor": 2
}
