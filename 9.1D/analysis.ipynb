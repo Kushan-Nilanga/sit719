{
 "cells": [
  {
   "cell_type": "code",
   "execution_count": 2,
   "metadata": {},
   "outputs": [
    {
     "ename": "NameError",
     "evalue": "name 'code' is not defined",
     "output_type": "error",
     "traceback": [
      "\u001b[0;31m---------------------------------------------------------------------------\u001b[0m",
      "\u001b[0;31mNameError\u001b[0m                                 Traceback (most recent call last)",
      "Cell \u001b[0;32mIn[2], line 8\u001b[0m\n\u001b[1;32m      5\u001b[0m \u001b[39mfrom\u001b[39;00m \u001b[39mcode\u001b[39;00m\u001b[39m.\u001b[39;00m\u001b[39mpredictive_modelling\u001b[39;00m \u001b[39mimport\u001b[39;00m \u001b[39m*\u001b[39m\n\u001b[1;32m      6\u001b[0m \u001b[39mfrom\u001b[39;00m \u001b[39mcode\u001b[39;00m\u001b[39m.\u001b[39;00m\u001b[39mdata_visualisation\u001b[39;00m \u001b[39mimport\u001b[39;00m \u001b[39m*\u001b[39m\n\u001b[0;32m----> 8\u001b[0m data_cleaning_artefacts \u001b[39m=\u001b[39m code\u001b[39m.\u001b[39mdata_cleaning\u001b[39m.\u001b[39martefacts_dir\n\u001b[1;32m      9\u001b[0m data_gathering_artefacts \u001b[39m=\u001b[39m code\u001b[39m.\u001b[39mdata_gathering\u001b[39m.\u001b[39martefacts_dir\n\u001b[1;32m     10\u001b[0m data_exploration_artefacts \u001b[39m=\u001b[39m code\u001b[39m.\u001b[39mdata_exploration\u001b[39m.\u001b[39martefacts_dir\n",
      "\u001b[0;31mNameError\u001b[0m: name 'code' is not defined"
     ]
    }
   ],
   "source": [
    "import code\n",
    "from code.data_gathering import *\n",
    "from code.data_cleaning import *\n",
    "from code.data_exploration import *\n",
    "from code.feature_engineering import *\n",
    "from code.predictive_modelling import *\n",
    "from code.data_visualisation import *\n",
    "\n",
    "data_cleaning_artefacts = code.data_cleaning.artefacts_dir\n",
    "data_gathering_artefacts = code.data_gathering.artefacts_dir\n",
    "data_exploration_artefacts = code.data_exploration.artefacts_dir\n",
    "feature_engineering_artefacts = code.feature_engineering.artefacts_dir\n",
    "predictive_modelling_artefacts = code.predictive_modelling.artefacts_dir\n",
    "data_visualisation_artefacts = code.data_visualisation.artefacts_dir "
   ]
  },
  {
   "cell_type": "code",
   "execution_count": null,
   "metadata": {},
   "outputs": [],
   "source": []
  }
 ],
 "metadata": {
  "kernelspec": {
   "display_name": "Python 3",
   "language": "python",
   "name": "python3"
  },
  "language_info": {
   "codemirror_mode": {
    "name": "ipython",
    "version": 3
   },
   "file_extension": ".py",
   "mimetype": "text/x-python",
   "name": "python",
   "nbconvert_exporter": "python",
   "pygments_lexer": "ipython3",
   "version": "3.10.6"
  },
  "orig_nbformat": 4,
  "vscode": {
   "interpreter": {
    "hash": "916dbcbb3f70747c44a77c7bcd40155683ae19c65e1c03b4aa3499c5328201f1"
   }
  }
 },
 "nbformat": 4,
 "nbformat_minor": 2
}
