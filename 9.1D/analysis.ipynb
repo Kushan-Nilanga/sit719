{
 "cells": [
  {
   "cell_type": "code",
   "execution_count": 3,
   "metadata": {},
   "outputs": [],
   "source": [
    "import code\n",
    "from code.data_gathering import *\n",
    "from code.data_cleaning import *\n",
    "from code.data_exploration import *\n",
    "from code.feature_engineering import *\n",
    "from code.predictive_modelling import *\n",
    "from code.data_visualisation import *\n",
    "\n",
    "data_cleaning_artefacts = code.data_cleaning.artefacts_dir\n",
    "data_gathering_artefacts = code.data_gathering.artefacts_dir\n",
    "data_exploration_artefacts = code.data_exploration.artefacts_dir\n",
    "feature_engineering_artefacts = code.feature_engineering.artefacts_dir\n",
    "predictive_modelling_artefacts = code.predictive_modelling.artefacts_dir\n",
    "data_visualisation_artefacts = code.data_visualisation.artefacts_dir "
   ]
  },
  {
   "cell_type": "code",
   "execution_count": null,
   "metadata": {},
   "outputs": [],
   "source": []
  }
 ],
 "metadata": {
  "kernelspec": {
   "display_name": "Python 3",
   "language": "python",
   "name": "python3"
  },
  "language_info": {
   "codemirror_mode": {
    "name": "ipython",
    "version": 3
   },
   "file_extension": ".py",
   "mimetype": "text/x-python",
   "name": "python",
   "nbconvert_exporter": "python",
   "pygments_lexer": "ipython3",
   "version": "3.10.6"
  },
  "orig_nbformat": 4,
  "vscode": {
   "interpreter": {
    "hash": "916dbcbb3f70747c44a77c7bcd40155683ae19c65e1c03b4aa3499c5328201f1"
   }
  }
 },
 "nbformat": 4,
 "nbformat_minor": 2
}
